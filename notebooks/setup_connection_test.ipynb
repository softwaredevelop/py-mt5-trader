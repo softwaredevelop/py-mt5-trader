{
 "cells": [
  {
   "cell_type": "markdown",
   "id": "6601123f",
   "metadata": {},
   "source": [
    "# Setup: Advanced Connection Test\n",
    "\n",
    "This notebook performs a two-stage connection test to the MetaTrader 5 terminal.\n",
    "\n",
    "**Purpose:**\n",
    "\n",
    "- To verify the new `MT5Connector` logic.\n",
    "- **Stage 1: Terminal Initialization.** Checks if a technical connection can be established with a specific MT5 terminal defined in `config.ini`.\n",
    "- **Stage 2: Account Login.** On the established connection, checks if it can log in to a specific trading account.\n",
    "\n",
    "**Workflow:**\n",
    "\n",
    "1.  Imports libraries and the refactored `MT5Connector`.\n",
    "2.  Uses a `with` block to initialize a connection to a specific terminal (e.g., `terminal_default`).\n",
    "3.  Inside the block, it attempts to log in to a specific account (e.g., `account_default_demo`).\n",
    "4.  Prints terminal and account info to confirm success.\n"
   ]
  },
  {
   "cell_type": "code",
   "execution_count": null,
   "id": "bcf40565",
   "metadata": {},
   "outputs": [],
   "source": [
    "import os\n",
    "import sys\n",
    "\n",
    "import MetaTrader5 as mt5\n",
    "\n",
    "# --- 1. SETUP PHASE ---\n",
    "print(\"--- Initializing Setup ---\")\n",
    "try:\n",
    "    project_root = os.path.abspath(os.path.join(os.getcwd(), \"..\"))\n",
    "    config_file_path = os.path.join(project_root, \"config.ini\")\n",
    "\n",
    "    if project_root not in sys.path:\n",
    "        sys.path.append(project_root)\n",
    "\n",
    "    from utils.mt5_connector import MT5Connector\n",
    "\n",
    "    print(\"Setup successful. Connector is ready.\")\n",
    "except Exception as e:\n",
    "    print(f\"Error during setup: {e}\")\n",
    "    sys.exit()"
   ]
  },
  {
   "cell_type": "code",
   "execution_count": null,
   "id": "b9e20952",
   "metadata": {},
   "outputs": [],
   "source": [
    "# --- 2. CONNECTION TEST PHASE ---\n",
    "TERMINAL_SECTION = \"terminal_default\"\n",
    "ACCOUNT_SECTION = \"account_default_demo\"\n",
    "\n",
    "print(f\"\\n--- Attempting to connect to terminal '{TERMINAL_SECTION}' ---\")\n",
    "\n",
    "try:\n",
    "    with MT5Connector(\n",
    "        config_path=config_file_path, terminal_section=TERMINAL_SECTION\n",
    "    ) as mt5_conn:\n",
    "        print(\"\\n>>> TERMINAL INITIALIZED SUCCESSFULLY <<<\")\n",
    "\n",
    "        login_success = mt5_conn.login_to_account(account_section=ACCOUNT_SECTION)\n",
    "\n",
    "        if login_success:\n",
    "            print(\"\\n>>> ACCOUNT LOGIN SUCCESSFUL! <<<\")\n",
    "\n",
    "            account_info = mt5.account_info()\n",
    "            if account_info:\n",
    "                print(\n",
    "                    f\"\\nVerification: Logged in to account: {account_info.login} on {account_info.server}\"\n",
    "                )\n",
    "                print(f\"Balance: {account_info.currency} {account_info.balance}\")\n",
    "        else:\n",
    "            print(\"\\n>>> ACCOUNT LOGIN FAILED. <<<\")\n",
    "\n",
    "except ConnectionError as e:\n",
    "    print(f\"\\n>>> TERMINAL INITIALIZATION FAILED: {e} <<<\")\n",
    "except Exception as e:\n",
    "    print(f\"\\nAn unexpected error occurred: {e}\")\n",
    "\n",
    "print(\"\\nTest finished. The terminal connection has been closed.\")"
   ]
  }
 ],
 "metadata": {
  "kernelspec": {
   "display_name": "mt5_env",
   "language": "python",
   "name": "python3"
  },
  "language_info": {
   "codemirror_mode": {
    "name": "ipython",
    "version": 3
   },
   "file_extension": ".py",
   "mimetype": "text/x-python",
   "name": "python",
   "nbconvert_exporter": "python",
   "pygments_lexer": "ipython3",
   "version": "3.12.3"
  }
 },
 "nbformat": 4,
 "nbformat_minor": 5
}
